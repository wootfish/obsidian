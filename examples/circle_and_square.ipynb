{
 "cells": [
  {
   "cell_type": "markdown",
   "metadata": {},
   "source": [
    "This notebook starts with the same basic circle-and-square example as `circle_and_square.py` (adapted slightly to follow some of my preferred notebook idioms, e.g. constructing groups through parameterized functions to avoid cluttering the top-level namespace, and constructing complex groups out of simple ones after constructing the simple ones in isolation). After this, a few other variations on the theme are presented."
   ]
  },
  {
   "cell_type": "code",
   "execution_count": 1,
   "metadata": {},
   "outputs": [],
   "source": [
    "from obsidian import Canvas, Group, EQ\n",
    "from obsidian.geometry import Circle, Rectangle, Point\n",
    "from obsidian.canvas import render"
   ]
  },
  {
   "cell_type": "code",
   "execution_count": 2,
   "metadata": {},
   "outputs": [],
   "source": [
    "SQRT_2 = 2**0.5\n",
    "\n",
    "WIDTH = HEIGHT = 300\n",
    "\n",
    "CIRCLE_STYLE = {\"stroke\": \"#0000ff\", \"fill_opacity\": \"0\"}\n",
    "RECT_STYLE = {\"stroke\": \"#ff0000\", \"fill_opacity\": \"0\"}"
   ]
  },
  {
   "cell_type": "code",
   "execution_count": 3,
   "metadata": {},
   "outputs": [
    {
     "data": {
      "image/svg+xml": [
       "<?xml version=\"1.0\" encoding=\"UTF-8\"?>\n",
       "<svg xmlns=\"http://www.w3.org/2000/svg\" xmlns:xlink=\"http://www.w3.org/1999/xlink\"\n",
       "     width=\"300\" height=\"300\" viewBox=\"0 -300 300 300\">\n",
       "<defs>\n",
       "</defs>\n",
       "<rect x=\"0.0\" y=\"-300.0\" width=\"300.0\" height=\"300.0\" fill=\"#e0e0e0\" />\n",
       "<circle cx=\"150.0\" cy=\"-150.0\" r=\"75.0\" stroke=\"#0000ff\" fill-opacity=\"0\" />\n",
       "<rect x=\"96.96699141100893\" y=\"-203.03300858899107\" width=\"106.06601717798213\" height=\"106.06601717798213\" stroke=\"#ff0000\" fill-opacity=\"0\" />\n",
       "</svg>"
      ],
      "text/plain": [
       "<drawSvg.drawing.Drawing at 0x78613622efd0>"
      ]
     },
     "execution_count": 3,
     "metadata": {},
     "output_type": "execute_result"
    }
   ],
   "source": [
    "def make_basic_group(r):\n",
    "    circle = Circle(style=CIRCLE_STYLE)\n",
    "    square = Rectangle(style=RECT_STYLE)\n",
    "    shapes = {'circle': circle, 'square': square}\n",
    "    constraints = [\n",
    "        circle.center |EQ| square.center,\n",
    "        circle.radius |EQ| r,\n",
    "        square.width |EQ| square.height,\n",
    "        square.width |EQ| circle.radius * SQRT_2\n",
    "    ]\n",
    "    return Group(shapes, constraints)\n",
    "\n",
    "circle_and_square = make_basic_group(r=WIDTH/4)\n",
    "render(circle_and_square, width=WIDTH, height=HEIGHT, bg_color=\"#e0e0e0\")"
   ]
  },
  {
   "cell_type": "code",
   "execution_count": 4,
   "metadata": {},
   "outputs": [
    {
     "data": {
      "text/plain": [
       "Circle(x=FV0, y=FV1, radius=FV2, style={'stroke': '#0000ff', 'fill_opacity': '0'})"
      ]
     },
     "execution_count": 4,
     "metadata": {},
     "output_type": "execute_result"
    }
   ],
   "source": [
    "# After we've created this group we can reference its named members by name:\n",
    "circle_and_square['circle']"
   ]
  },
  {
   "cell_type": "code",
   "execution_count": 5,
   "metadata": {},
   "outputs": [
    {
     "data": {
      "text/plain": [
       "[('circle',\n",
       "  Circle(x=FV0, y=FV1, radius=FV2, style={'stroke': '#0000ff', 'fill_opacity': '0'})),\n",
       " ('square',\n",
       "  Rectangle(x=FV3, y=FV4, width=FV5, height=FV6, style={'stroke': '#ff0000', 'fill_opacity': '0'}))]"
      ]
     },
     "execution_count": 5,
     "metadata": {},
     "output_type": "execute_result"
    }
   ],
   "source": [
    "# We can also iterate over the group's named members just like we'd iterate through a dictionary:\n",
    "[t for t in circle_and_square.items()]"
   ]
  },
  {
   "cell_type": "code",
   "execution_count": 6,
   "metadata": {},
   "outputs": [
    {
     "data": {
      "image/svg+xml": [
       "<?xml version=\"1.0\" encoding=\"UTF-8\"?>\n",
       "<svg xmlns=\"http://www.w3.org/2000/svg\" xmlns:xlink=\"http://www.w3.org/1999/xlink\"\n",
       "     width=\"300\" height=\"300\" viewBox=\"0 -300 300 300\">\n",
       "<defs>\n",
       "</defs>\n",
       "<rect x=\"0.0\" y=\"-300.0\" width=\"300.0\" height=\"300.0\" fill=\"#e0e0e0\" />\n",
       "<circle cx=\"150.0\" cy=\"-150.0\" r=\"75.0\" stroke=\"#0000ff\" fill-opacity=\"0\" />\n",
       "<rect x=\"96.96699141100893\" y=\"-203.03300858899107\" width=\"106.06601717798213\" height=\"106.06601717798213\" stroke=\"#ff0000\" fill-opacity=\"0\" />\n",
       "<circle cx=\"150.0\" cy=\"-150.0\" r=\"53.033008588991066\" stroke=\"#0000ff\" fill-opacity=\"0\" />\n",
       "</svg>"
      ],
      "text/plain": [
       "<drawSvg.drawing.Drawing at 0x78613617cba8>"
      ]
     },
     "execution_count": 6,
     "metadata": {},
     "output_type": "execute_result"
    }
   ],
   "source": [
    "# This shows how new shapes can easily be composed with existing groups.\n",
    "\n",
    "# In this example, we create a new figure that expands on the above figure by adding a second circle\n",
    "# inscribed within the first figure's inner square.\n",
    "\n",
    "# This also shows a different style for defining shape parameters. By specifiying x,y,r explicitly in\n",
    "# terms of existing free variables, we avoid having to create any new free variables or constraints.\n",
    "\n",
    "def make_group_with_extra_circle():\n",
    "    g = make_basic_group(WIDTH/4)\n",
    "\n",
    "    circle_2 = Circle(\n",
    "        x=g.center.x,\n",
    "        y=g.center.y,\n",
    "        radius=g['square'].width / 2,\n",
    "        style=CIRCLE_STYLE\n",
    "    )\n",
    "    return Group([g, circle_2])\n",
    "\n",
    "render(make_group_with_extra_circle(), width=WIDTH, height=HEIGHT, bg_color=\"#e0e0e0\")"
   ]
  },
  {
   "cell_type": "code",
   "execution_count": 7,
   "metadata": {},
   "outputs": [
    {
     "data": {
      "image/svg+xml": [
       "<?xml version=\"1.0\" encoding=\"UTF-8\"?>\n",
       "<svg xmlns=\"http://www.w3.org/2000/svg\" xmlns:xlink=\"http://www.w3.org/1999/xlink\"\n",
       "     width=\"300\" height=\"300\" viewBox=\"0 -300 300 300\">\n",
       "<defs>\n",
       "</defs>\n",
       "<rect x=\"0.0\" y=\"-300.0\" width=\"300.0\" height=\"300.0\" fill=\"#e0e0e0\" />\n",
       "<circle cx=\"150.0\" cy=\"-150.0\" r=\"75.0\" stroke=\"#0000ff\" fill-opacity=\"0\" />\n",
       "<rect x=\"96.96699141100893\" y=\"-203.03300858899107\" width=\"106.06601717798213\" height=\"106.06601717798213\" stroke=\"#ff0000\" fill-opacity=\"0\" />\n",
       "<circle cx=\"150.0\" cy=\"-150.0\" r=\"53.033008588991066\" stroke=\"#0000ff\" fill-opacity=\"0\" />\n",
       "<rect x=\"112.5\" y=\"-187.5\" width=\"75.00000000000001\" height=\"75.00000000000001\" stroke=\"#ff0000\" fill-opacity=\"0\" />\n",
       "<circle cx=\"150.0\" cy=\"-150.0\" r=\"37.50000000000001\" stroke=\"#0000ff\" fill-opacity=\"0\" />\n",
       "<rect x=\"123.48349570550447\" y=\"-176.51650429449552\" width=\"53.03300858899107\" height=\"53.03300858899107\" stroke=\"#ff0000\" fill-opacity=\"0\" />\n",
       "<circle cx=\"150.0\" cy=\"-150.0\" r=\"26.516504294495537\" stroke=\"#0000ff\" fill-opacity=\"0\" />\n",
       "<rect x=\"131.25\" y=\"-168.75\" width=\"37.50000000000001\" height=\"37.50000000000001\" stroke=\"#ff0000\" fill-opacity=\"0\" />\n",
       "<circle cx=\"150.0\" cy=\"-150.0\" r=\"18.750000000000004\" stroke=\"#0000ff\" fill-opacity=\"0\" />\n",
       "<rect x=\"136.74174785275224\" y=\"-163.25825214724776\" width=\"26.51650429449554\" height=\"26.51650429449554\" stroke=\"#ff0000\" fill-opacity=\"0\" />\n",
       "<circle cx=\"150.0\" cy=\"-150.0\" r=\"13.25825214724777\" stroke=\"#0000ff\" fill-opacity=\"0\" />\n",
       "<rect x=\"140.625\" y=\"-159.375\" width=\"18.750000000000007\" height=\"18.750000000000007\" stroke=\"#ff0000\" fill-opacity=\"0\" />\n",
       "<circle cx=\"150.0\" cy=\"-150.0\" r=\"9.375000000000004\" stroke=\"#0000ff\" fill-opacity=\"0\" />\n",
       "<rect x=\"143.3708739263761\" y=\"-156.6291260736239\" width=\"13.258252147247772\" height=\"13.258252147247772\" stroke=\"#ff0000\" fill-opacity=\"0\" />\n",
       "<circle cx=\"150.0\" cy=\"-150.0\" r=\"6.629126073623886\" stroke=\"#0000ff\" fill-opacity=\"0\" />\n",
       "<rect x=\"145.3125\" y=\"-154.6875\" width=\"9.375000000000005\" height=\"9.375000000000005\" stroke=\"#ff0000\" fill-opacity=\"0\" />\n",
       "<circle cx=\"150.0\" cy=\"-150.0\" r=\"4.687500000000003\" stroke=\"#0000ff\" fill-opacity=\"0\" />\n",
       "<rect x=\"146.68543696318807\" y=\"-153.31456303681193\" width=\"6.629126073623887\" height=\"6.629126073623887\" stroke=\"#ff0000\" fill-opacity=\"0\" />\n",
       "<circle cx=\"150.0\" cy=\"-150.0\" r=\"3.3145630368119434\" stroke=\"#0000ff\" fill-opacity=\"0\" />\n",
       "<rect x=\"147.65625\" y=\"-152.34375\" width=\"4.6875000000000036\" height=\"4.6875000000000036\" stroke=\"#ff0000\" fill-opacity=\"0\" />\n",
       "<circle cx=\"150.0\" cy=\"-150.0\" r=\"2.3437500000000018\" stroke=\"#0000ff\" fill-opacity=\"0\" />\n",
       "<rect x=\"148.34271848159403\" y=\"-151.65728151840597\" width=\"3.314563036811944\" height=\"3.314563036811944\" stroke=\"#ff0000\" fill-opacity=\"0\" />\n",
       "</svg>"
      ],
      "text/plain": [
       "<drawSvg.drawing.Drawing at 0x7861361c0208>"
      ]
     },
     "execution_count": 7,
     "metadata": {},
     "output_type": "execute_result"
    }
   ],
   "source": [
    "# Here's another example of how new groups might be added onto existing ones.\n",
    "\n",
    "def make_nested_group():\n",
    "    g = make_basic_group(WIDTH/4)\n",
    "    groups = [g]\n",
    "\n",
    "    for _ in range(10):\n",
    "        g = make_basic_group(g['square'].width / 2)\n",
    "        groups.append(g)\n",
    "\n",
    "    constraints = [g1.center |EQ| g2.center for g1, g2 in zip(groups, groups[1:])]\n",
    "    return Group(groups, constraints)\n",
    "\n",
    "render(make_nested_group(), width=WIDTH, height=HEIGHT, bg_color=\"#e0e0e0\")"
   ]
  },
  {
   "cell_type": "code",
   "execution_count": 8,
   "metadata": {},
   "outputs": [],
   "source": [
    "# Here's a simple example of how a figure might be animated (this one cycles between colors)"
   ]
  },
  {
   "cell_type": "code",
   "execution_count": 9,
   "metadata": {},
   "outputs": [
    {
     "data": {
      "text/plain": [
       "('#0000ff',\n",
       " '#1a00e6',\n",
       " '#3300cc',\n",
       " '#4c00b2',\n",
       " '#660099',\n",
       " '#800080',\n",
       " '#990066',\n",
       " '#b2004c',\n",
       " '#cc0033',\n",
       " '#e6001a',\n",
       " '#ff0000')"
      ]
     },
     "execution_count": 9,
     "metadata": {},
     "output_type": "execute_result"
    }
   ],
   "source": [
    "from obsidian.lerps import lerp_colors\n",
    "lerp_colors(\"#0000FF\", \"#FF0000\", 10)"
   ]
  },
  {
   "cell_type": "code",
   "execution_count": 10,
   "metadata": {},
   "outputs": [],
   "source": [
    "from obsidian.animate import KeyframeAnimation"
   ]
  },
  {
   "cell_type": "code",
   "execution_count": 22,
   "metadata": {},
   "outputs": [],
   "source": [
    "def make_animated_group():\n",
    "    def draw_func(c1, c2):\n",
    "        g = make_basic_group(WIDTH/4)\n",
    "        circle = g['circle']\n",
    "        square = g['square']\n",
    "        \n",
    "        circle.style = {**circle.style, 'stroke': c1, 'stroke-width': 3}\n",
    "        square.style = {**square.style, 'stroke': c2, 'stroke-width': 3}\n",
    "\n",
    "        return g\n",
    "        \n",
    "    anim = KeyframeAnimation(draw_func)\n",
    "    anim.add_keyframe(0,  \"#0000FF\", \"#FF0000\")  # colors get passed to draw_func\n",
    "    anim.add_keyframe(10, \"#000000\", \"#FFFFFF\")  # number specifies gap btwn keyframes (not absolute frame count)\n",
    "    anim.add_keyframe(10, \"#000000\", \"#FFFF00\")\n",
    "    anim.add_keyframe(10, \"#FF0000\", \"#0000FF\")\n",
    "    anim.add_keyframe(17, \"#0069FF\", \"#FFFF00\")  # TODO pick more interesting colors\n",
    "    anim.add_keyframe(17, \"#0069FF\", \"#FF6900\")\n",
    "    anim.add_keyframe(5,  \"#0000FF\", \"#FF0000\")\n",
    "\n",
    "    return anim"
   ]
  },
  {
   "cell_type": "code",
   "execution_count": 23,
   "metadata": {
    "scrolled": false
   },
   "outputs": [
    {
     "data": {
      "image/svg+xml": [
       "<?xml version=\"1.0\" encoding=\"UTF-8\"?>\n",
       "<svg xmlns=\"http://www.w3.org/2000/svg\" xmlns:xlink=\"http://www.w3.org/1999/xlink\"\n",
       "     width=\"300\" height=\"300\" viewBox=\"0 -300 300 300\">\n",
       "<defs>\n",
       "</defs>\n",
       "<rect x=\"0.0\" y=\"-300.0\" width=\"300.0\" height=\"300.0\" fill=\"#e0e0e0\" />\n",
       "<circle cx=\"150.0\" cy=\"-150.0\" r=\"75.0\" stroke=\"#0000FF\" fill-opacity=\"0\" stroke-width=\"3\" />\n",
       "<rect x=\"96.96699141100893\" y=\"-203.03300858899107\" width=\"106.06601717798213\" height=\"106.06601717798213\" stroke=\"#FF0000\" fill-opacity=\"0\" stroke-width=\"3\" />\n",
       "</svg>"
      ],
      "text/plain": [
       "<drawSvg.drawing.Drawing at 0x786135de2208>"
      ]
     },
     "metadata": {},
     "output_type": "display_data"
    }
   ],
   "source": [
    "anim = make_animated_group()\n",
    "anim.render_jupyter(width=WIDTH, height=HEIGHT, bg_color=\"#e0e0e0\")"
   ]
  },
  {
   "cell_type": "code",
   "execution_count": null,
   "metadata": {},
   "outputs": [],
   "source": []
  },
  {
   "cell_type": "code",
   "execution_count": null,
   "metadata": {},
   "outputs": [],
   "source": []
  },
  {
   "cell_type": "code",
   "execution_count": null,
   "metadata": {},
   "outputs": [],
   "source": []
  },
  {
   "cell_type": "code",
   "execution_count": 13,
   "metadata": {},
   "outputs": [],
   "source": [
    "# TODO make a version of this where it zooms in!"
   ]
  }
 ],
 "metadata": {
  "kernelspec": {
   "display_name": "Python 3",
   "language": "python",
   "name": "python3"
  },
  "language_info": {
   "codemirror_mode": {
    "name": "ipython",
    "version": 3
   },
   "file_extension": ".py",
   "mimetype": "text/x-python",
   "name": "python",
   "nbconvert_exporter": "python",
   "pygments_lexer": "ipython3",
   "version": "3.7.3"
  }
 },
 "nbformat": 4,
 "nbformat_minor": 4
}
