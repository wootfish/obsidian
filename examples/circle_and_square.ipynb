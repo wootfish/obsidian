{
 "cells": [
  {
   "cell_type": "code",
   "execution_count": 1,
   "metadata": {},
   "outputs": [],
   "source": [
    "from obsidian import Canvas, Group, EQ\n",
    "from obsidian.geometry import Circle, Rectangle, Point\n",
    "from obsidian.canvas import render"
   ]
  },
  {
   "cell_type": "code",
   "execution_count": 2,
   "metadata": {},
   "outputs": [],
   "source": [
    "SQRT_2 = 2**0.5\n",
    "\n",
    "WIDTH = HEIGHT = 300\n",
    "\n",
    "CIRCLE_STYLE = {\"stroke\": \"#0000ff\", \"fill_opacity\": \"0\"}\n",
    "RECT_STYLE = {\"stroke\": \"#ff0000\", \"fill_opacity\": \"0\"}"
   ]
  },
  {
   "cell_type": "code",
   "execution_count": 3,
   "metadata": {},
   "outputs": [],
   "source": [
    "def make_group():\n",
    "    circle = Circle(style=CIRCLE_STYLE)\n",
    "    square = Rectangle(style=RECT_STYLE)\n",
    "    shapes = {'circle': circle, 'square': square}\n",
    "    constraints = [\n",
    "        circle.center |EQ| square.center,\n",
    "        circle.radius |EQ| WIDTH / 4,\n",
    "        square.width |EQ| square.height,\n",
    "        square.width |EQ| circle.radius * SQRT_2\n",
    "    ]\n",
    "    return Group(shapes, constraints)"
   ]
  },
  {
   "cell_type": "code",
   "execution_count": 4,
   "metadata": {},
   "outputs": [
    {
     "data": {
      "image/svg+xml": [
       "<?xml version=\"1.0\" encoding=\"UTF-8\"?>\n",
       "<svg xmlns=\"http://www.w3.org/2000/svg\" xmlns:xlink=\"http://www.w3.org/1999/xlink\"\n",
       "     width=\"300\" height=\"300\" viewBox=\"0 -300 300 300\">\n",
       "<defs>\n",
       "</defs>\n",
       "<rect x=\"0.0\" y=\"-300.0\" width=\"300.0\" height=\"300.0\" fill=\"#e0e0e0\" />\n",
       "<circle cx=\"150.0\" cy=\"-150.0\" r=\"75.0\" stroke=\"#0000ff\" fill-opacity=\"0\" />\n",
       "<rect x=\"96.96699141100893\" y=\"-203.03300858899107\" width=\"106.06601717798213\" height=\"106.06601717798213\" stroke=\"#ff0000\" fill-opacity=\"0\" />\n",
       "</svg>"
      ],
      "text/plain": [
       "<drawSvg.drawing.Drawing at 0x78bad463df98>"
      ]
     },
     "execution_count": 4,
     "metadata": {},
     "output_type": "execute_result"
    }
   ],
   "source": [
    "g = make_group()\n",
    "render(g, width=WIDTH, height=HEIGHT, bg_color=\"#e0e0e0\")"
   ]
  },
  {
   "cell_type": "code",
   "execution_count": null,
   "metadata": {},
   "outputs": [],
   "source": []
  }
 ],
 "metadata": {
  "kernelspec": {
   "display_name": "Python 3",
   "language": "python",
   "name": "python3"
  },
  "language_info": {
   "codemirror_mode": {
    "name": "ipython",
    "version": 3
   },
   "file_extension": ".py",
   "mimetype": "text/x-python",
   "name": "python",
   "nbconvert_exporter": "python",
   "pygments_lexer": "ipython3",
   "version": "3.7.3"
  }
 },
 "nbformat": 4,
 "nbformat_minor": 4
}
